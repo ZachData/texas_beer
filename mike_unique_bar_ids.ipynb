{
 "cells": [
  {
   "cell_type": "code",
   "execution_count": 1,
   "id": "c90d2f57-0bbc-472c-b7e0-ad4828eb0062",
   "metadata": {},
   "outputs": [],
   "source": [
    "import pandas as pd\n",
    "from datetime import datetime, date"
   ]
  },
  {
   "cell_type": "code",
   "execution_count": 2,
   "id": "91df29e4-e798-4e2b-8830-497e72ed2970",
   "metadata": {},
   "outputs": [],
   "source": [
    "tabc_gr = pd.read_csv('/Users/michaelhinds/Downloads/Mixed_Beverage_Gross_Receipts.csv')"
   ]
  },
  {
   "cell_type": "code",
   "execution_count": 3,
   "id": "6e3e995e-f5a5-4a44-8782-eda75fbc1040",
   "metadata": {
    "collapsed": true,
    "jupyter": {
     "outputs_hidden": true
    },
    "tags": []
   },
   "outputs": [
    {
     "data": {
      "text/plain": [
       "Taxpayer Number                 int64\n",
       "Taxpayer Name                  object\n",
       "Taxpayer Address               object\n",
       "Taxpayer City                  object\n",
       "Taxpayer State                 object\n",
       "Taxpayer Zip                  float64\n",
       "Taxpayer County                 int64\n",
       "Location Number                 int64\n",
       "Location Name                  object\n",
       "Location Address               object\n",
       "Location City                  object\n",
       "Location State                 object\n",
       "Location Zip                    int64\n",
       "Location County                 int64\n",
       "Inside/Outside City Limits     object\n",
       "TABC Permit Number             object\n",
       "Responsibility Begin Date      object\n",
       "Responsibility End Date        object\n",
       "Obligation End Date            object\n",
       "Liquor Receipts                 int64\n",
       "Wine Receipts                   int64\n",
       "Beer Receipts                   int64\n",
       "Cover Charge Receipts           int64\n",
       "Total Receipts                  int64\n",
       "dtype: object"
      ]
     },
     "execution_count": 3,
     "metadata": {},
     "output_type": "execute_result"
    }
   ],
   "source": [
    "tabc_gr.dtypes"
   ]
  },
  {
   "cell_type": "code",
   "execution_count": 5,
   "id": "2331ad7c-c6f5-49be-a3fa-97125b8b92aa",
   "metadata": {
    "tags": []
   },
   "outputs": [
    {
     "data": {
      "text/html": [
       "<div>\n",
       "<style scoped>\n",
       "    .dataframe tbody tr th:only-of-type {\n",
       "        vertical-align: middle;\n",
       "    }\n",
       "\n",
       "    .dataframe tbody tr th {\n",
       "        vertical-align: top;\n",
       "    }\n",
       "\n",
       "    .dataframe thead th {\n",
       "        text-align: right;\n",
       "    }\n",
       "</style>\n",
       "<table border=\"1\" class=\"dataframe\">\n",
       "  <thead>\n",
       "    <tr style=\"text-align: right;\">\n",
       "      <th></th>\n",
       "      <th>Taxpayer Number</th>\n",
       "      <th>Taxpayer Name</th>\n",
       "      <th>Taxpayer Address</th>\n",
       "      <th>Taxpayer City</th>\n",
       "      <th>Taxpayer State</th>\n",
       "      <th>Taxpayer Zip</th>\n",
       "      <th>Taxpayer County</th>\n",
       "      <th>Location Number</th>\n",
       "      <th>Location Name</th>\n",
       "      <th>Location Address</th>\n",
       "      <th>...</th>\n",
       "      <th>Inside/Outside City Limits</th>\n",
       "      <th>TABC Permit Number</th>\n",
       "      <th>Responsibility Begin Date</th>\n",
       "      <th>Responsibility End Date</th>\n",
       "      <th>Obligation End Date</th>\n",
       "      <th>Liquor Receipts</th>\n",
       "      <th>Wine Receipts</th>\n",
       "      <th>Beer Receipts</th>\n",
       "      <th>Cover Charge Receipts</th>\n",
       "      <th>Total Receipts</th>\n",
       "    </tr>\n",
       "  </thead>\n",
       "  <tbody>\n",
       "    <tr>\n",
       "      <th>0</th>\n",
       "      <td>32047970895</td>\n",
       "      <td>HONDURAS MAYA CAFE &amp; BAR LLC</td>\n",
       "      <td>8011 HAZEN ST</td>\n",
       "      <td>HOUSTON</td>\n",
       "      <td>TX</td>\n",
       "      <td>77036.0</td>\n",
       "      <td>101</td>\n",
       "      <td>1</td>\n",
       "      <td>HONDURAS MAYA CAFE &amp; BAR LLC</td>\n",
       "      <td>5945 BELLAIRE BLVD STE B</td>\n",
       "      <td>...</td>\n",
       "      <td>Y</td>\n",
       "      <td>MB817033</td>\n",
       "      <td>08/16/2012</td>\n",
       "      <td>09/12/2019</td>\n",
       "      <td>07/31/2019</td>\n",
       "      <td>0</td>\n",
       "      <td>0</td>\n",
       "      <td>0</td>\n",
       "      <td>0</td>\n",
       "      <td>0</td>\n",
       "    </tr>\n",
       "    <tr>\n",
       "      <th>1</th>\n",
       "      <td>32049923835</td>\n",
       "      <td>MERMAID KARAOKE PRIVATE CLUB, INC.</td>\n",
       "      <td>2639 WALNUT HILL LN STE 225</td>\n",
       "      <td>DALLAS</td>\n",
       "      <td>TX</td>\n",
       "      <td>75229.0</td>\n",
       "      <td>57</td>\n",
       "      <td>1</td>\n",
       "      <td>MERMAID KARAOKE PRIVATE CLUB</td>\n",
       "      <td>1310 W CAMPBELL RD STE 103</td>\n",
       "      <td>...</td>\n",
       "      <td>Y</td>\n",
       "      <td>N 837378</td>\n",
       "      <td>04/12/2013</td>\n",
       "      <td>07/01/2015</td>\n",
       "      <td>08/31/2014</td>\n",
       "      <td>480</td>\n",
       "      <td>185</td>\n",
       "      <td>1374</td>\n",
       "      <td>0</td>\n",
       "      <td>2039</td>\n",
       "    </tr>\n",
       "    <tr>\n",
       "      <th>2</th>\n",
       "      <td>32034036304</td>\n",
       "      <td>FENG KAI CORPORATION</td>\n",
       "      <td>8427 BOULEVARD 26</td>\n",
       "      <td>N RICHLND HLS</td>\n",
       "      <td>TX</td>\n",
       "      <td>76180.0</td>\n",
       "      <td>220</td>\n",
       "      <td>1</td>\n",
       "      <td>JAPANESE GRILL</td>\n",
       "      <td>8427 BOULEVARD 26</td>\n",
       "      <td>...</td>\n",
       "      <td>Y</td>\n",
       "      <td>MB576670</td>\n",
       "      <td>05/01/2008</td>\n",
       "      <td>03/17/2018</td>\n",
       "      <td>06/30/2016</td>\n",
       "      <td>1143</td>\n",
       "      <td>167</td>\n",
       "      <td>669</td>\n",
       "      <td>0</td>\n",
       "      <td>1979</td>\n",
       "    </tr>\n",
       "    <tr>\n",
       "      <th>3</th>\n",
       "      <td>14537211071</td>\n",
       "      <td>THE HUTTO SMITHS, LLC</td>\n",
       "      <td>429 LITTLE LAKE RD</td>\n",
       "      <td>HUTTO</td>\n",
       "      <td>TX</td>\n",
       "      <td>78634.0</td>\n",
       "      <td>246</td>\n",
       "      <td>1</td>\n",
       "      <td>THE DOWNTOWN HALL OF FAME</td>\n",
       "      <td>205 EAST ST</td>\n",
       "      <td>...</td>\n",
       "      <td>Y</td>\n",
       "      <td>MB791778</td>\n",
       "      <td>12/06/2011</td>\n",
       "      <td>NaN</td>\n",
       "      <td>03/31/2018</td>\n",
       "      <td>12881</td>\n",
       "      <td>357</td>\n",
       "      <td>10447</td>\n",
       "      <td>0</td>\n",
       "      <td>23685</td>\n",
       "    </tr>\n",
       "    <tr>\n",
       "      <th>4</th>\n",
       "      <td>32019999229</td>\n",
       "      <td>THE CROSSING AT FIDDLE CREEK, INC.</td>\n",
       "      <td>1620 W CEDAR ST</td>\n",
       "      <td>STEPHENVILLE</td>\n",
       "      <td>TX</td>\n",
       "      <td>76401.0</td>\n",
       "      <td>72</td>\n",
       "      <td>1</td>\n",
       "      <td>THE CROSSING AT FIDDLE CREEK INC</td>\n",
       "      <td>2004 W SWAN ST</td>\n",
       "      <td>...</td>\n",
       "      <td>Y</td>\n",
       "      <td>N 643163</td>\n",
       "      <td>10/26/2006</td>\n",
       "      <td>11/30/2013</td>\n",
       "      <td>08/31/2008</td>\n",
       "      <td>4841</td>\n",
       "      <td>2413</td>\n",
       "      <td>4620</td>\n",
       "      <td>0</td>\n",
       "      <td>11874</td>\n",
       "    </tr>\n",
       "  </tbody>\n",
       "</table>\n",
       "<p>5 rows × 24 columns</p>\n",
       "</div>"
      ],
      "text/plain": [
       "   Taxpayer Number                       Taxpayer Name  \\\n",
       "0      32047970895        HONDURAS MAYA CAFE & BAR LLC   \n",
       "1      32049923835  MERMAID KARAOKE PRIVATE CLUB, INC.   \n",
       "2      32034036304                FENG KAI CORPORATION   \n",
       "3      14537211071               THE HUTTO SMITHS, LLC   \n",
       "4      32019999229  THE CROSSING AT FIDDLE CREEK, INC.   \n",
       "\n",
       "              Taxpayer Address  Taxpayer City Taxpayer State  Taxpayer Zip  \\\n",
       "0                8011 HAZEN ST        HOUSTON             TX       77036.0   \n",
       "1  2639 WALNUT HILL LN STE 225         DALLAS             TX       75229.0   \n",
       "2            8427 BOULEVARD 26  N RICHLND HLS             TX       76180.0   \n",
       "3           429 LITTLE LAKE RD          HUTTO             TX       78634.0   \n",
       "4              1620 W CEDAR ST   STEPHENVILLE             TX       76401.0   \n",
       "\n",
       "   Taxpayer County  Location Number                     Location Name  \\\n",
       "0              101                1      HONDURAS MAYA CAFE & BAR LLC   \n",
       "1               57                1      MERMAID KARAOKE PRIVATE CLUB   \n",
       "2              220                1                    JAPANESE GRILL   \n",
       "3              246                1         THE DOWNTOWN HALL OF FAME   \n",
       "4               72                1  THE CROSSING AT FIDDLE CREEK INC   \n",
       "\n",
       "             Location Address  ... Inside/Outside City Limits  \\\n",
       "0    5945 BELLAIRE BLVD STE B  ...                          Y   \n",
       "1  1310 W CAMPBELL RD STE 103  ...                          Y   \n",
       "2           8427 BOULEVARD 26  ...                          Y   \n",
       "3                 205 EAST ST  ...                          Y   \n",
       "4              2004 W SWAN ST  ...                          Y   \n",
       "\n",
       "  TABC Permit Number  Responsibility Begin Date  Responsibility End Date  \\\n",
       "0           MB817033                 08/16/2012               09/12/2019   \n",
       "1           N 837378                 04/12/2013               07/01/2015   \n",
       "2           MB576670                 05/01/2008               03/17/2018   \n",
       "3           MB791778                 12/06/2011                      NaN   \n",
       "4           N 643163                 10/26/2006               11/30/2013   \n",
       "\n",
       "  Obligation End Date Liquor Receipts Wine Receipts Beer Receipts  \\\n",
       "0          07/31/2019               0             0             0   \n",
       "1          08/31/2014             480           185          1374   \n",
       "2          06/30/2016            1143           167           669   \n",
       "3          03/31/2018           12881           357         10447   \n",
       "4          08/31/2008            4841          2413          4620   \n",
       "\n",
       "  Cover Charge Receipts  Total Receipts  \n",
       "0                     0               0  \n",
       "1                     0            2039  \n",
       "2                     0            1979  \n",
       "3                     0           23685  \n",
       "4                     0           11874  \n",
       "\n",
       "[5 rows x 24 columns]"
      ]
     },
     "execution_count": 5,
     "metadata": {},
     "output_type": "execute_result"
    }
   ],
   "source": [
    "tabc_gr.head()"
   ]
  },
  {
   "cell_type": "code",
   "execution_count": 6,
   "id": "1789641a-915d-43bf-990e-1c0b01e179c8",
   "metadata": {},
   "outputs": [],
   "source": [
    "tabc_gr2 = tabc_gr.drop_duplicates()"
   ]
  },
  {
   "cell_type": "code",
   "execution_count": 11,
   "id": "6fe6b260-dc0f-4e0b-a339-791f42f021dd",
   "metadata": {},
   "outputs": [
    {
     "data": {
      "text/plain": [
       "True"
      ]
     },
     "execution_count": 11,
     "metadata": {},
     "output_type": "execute_result"
    }
   ],
   "source": [
    "len(tabc_gr) == len(tabc_gr2)"
   ]
  },
  {
   "cell_type": "code",
   "execution_count": 12,
   "id": "b5e3e33d-5b62-4f1d-a654-19b6739ec36c",
   "metadata": {},
   "outputs": [
    {
     "data": {
      "text/plain": [
       "42174"
      ]
     },
     "execution_count": 12,
     "metadata": {},
     "output_type": "execute_result"
    }
   ],
   "source": [
    "len(tabc_gr['TABC Permit Number'].unique())"
   ]
  },
  {
   "cell_type": "code",
   "execution_count": 13,
   "id": "d19a1a7d-e777-4cea-987e-42ba6bdf6067",
   "metadata": {
    "collapsed": true,
    "jupyter": {
     "outputs_hidden": true
    },
    "tags": []
   },
   "outputs": [
    {
     "data": {
      "text/plain": [
       "Taxpayer Number                                32047970895\n",
       "Taxpayer Name                 HONDURAS MAYA CAFE & BAR LLC\n",
       "Taxpayer Address                             8011 HAZEN ST\n",
       "Taxpayer City                                      HOUSTON\n",
       "Taxpayer State                                          TX\n",
       "Taxpayer Zip                                       77036.0\n",
       "Taxpayer County                                        101\n",
       "Location Number                                          1\n",
       "Location Name                 HONDURAS MAYA CAFE & BAR LLC\n",
       "Location Address                  5945 BELLAIRE BLVD STE B\n",
       "Location City                                      HOUSTON\n",
       "Location State                                          TX\n",
       "Location Zip                                         77081\n",
       "Location County                                        101\n",
       "Inside/Outside City Limits                               Y\n",
       "TABC Permit Number                                MB817033\n",
       "Responsibility Begin Date                       08/16/2012\n",
       "Responsibility End Date                         09/12/2019\n",
       "Obligation End Date                             07/31/2019\n",
       "Liquor Receipts                                          0\n",
       "Wine Receipts                                            0\n",
       "Beer Receipts                                            0\n",
       "Cover Charge Receipts                                    0\n",
       "Total Receipts                                           0\n",
       "Name: 0, dtype: object"
      ]
     },
     "execution_count": 13,
     "metadata": {},
     "output_type": "execute_result"
    }
   ],
   "source": [
    "tabc_gr[tabc_gr['TABC Permit Number'] == 'MB817033'].iloc[0]"
   ]
  },
  {
   "cell_type": "code",
   "execution_count": 16,
   "id": "97e6a877-5ec5-4a5a-b721-adbd652e6627",
   "metadata": {},
   "outputs": [],
   "source": [
    "def remove_dup_tabc_permit_numbers(df):\n",
    "    df['date'] = pd.to_datetime(df['Obligation End Date'], format='%m/%d/%Y')\n",
    "    df_obs = df.groupby(by=['TABC Permit Number', 'date']).size()\n",
    "    yeet_list = [x[0] for x in df_obs[df_obs > 1].index]\n",
    "    return yeet_list"
   ]
  },
  {
   "cell_type": "raw",
   "id": "2a5726d0-4c93-4e42-9d43-3ee7bf122537",
   "metadata": {
    "tags": []
   },
   "source": [
    "yeet_list = remove_dup_tabc_permit_numbers(tabc_gr)"
   ]
  },
  {
   "cell_type": "raw",
   "id": "c1526faf-7fe7-47bb-9c22-eca5484ffed9",
   "metadata": {},
   "source": [
    "tabc_gr_clean = tabc_gr[~tabc_gr['TABC Permit Number'].isin(yeet_list)]"
   ]
  },
  {
   "cell_type": "raw",
   "id": "ada1fe74-decb-4a3a-875e-744ffdb7d6e8",
   "metadata": {},
   "source": [
    "tabc_gr_clean.shape"
   ]
  },
  {
   "cell_type": "raw",
   "id": "ebae9d47-8baa-4c75-b87b-2674eec0c69f",
   "metadata": {},
   "source": [
    "len(tabc_gr_clean) / len(tabc_gr)"
   ]
  },
  {
   "cell_type": "code",
   "execution_count": null,
   "id": "b22ffa0e-6667-465f-a83d-fc8e3ec11dfb",
   "metadata": {},
   "outputs": [],
   "source": []
  },
  {
   "cell_type": "code",
   "execution_count": 19,
   "id": "af120692-e912-4fd6-9547-2b7539be7c20",
   "metadata": {},
   "outputs": [],
   "source": [
    "tabc_gr['date'] = pd.to_datetime(tabc_gr['Obligation End Date'], format='%m/%d/%Y')"
   ]
  },
  {
   "cell_type": "code",
   "execution_count": 30,
   "id": "2e51531e-b746-4cda-a68b-7d46ac3b208e",
   "metadata": {},
   "outputs": [],
   "source": [
    "tabc_obs = tabc_gr.groupby(by=['TABC Permit Number', 'date']).size()"
   ]
  },
  {
   "cell_type": "code",
   "execution_count": 31,
   "id": "4130bb72-723a-47c1-abf9-907129c979dd",
   "metadata": {},
   "outputs": [],
   "source": [
    "tabc_taxpayer_obs = tabc_gr.groupby(by=['TABC Permit Number', 'Taxpayer Number',  'date']).size()"
   ]
  },
  {
   "cell_type": "code",
   "execution_count": 43,
   "id": "45d93e4d-747b-48ba-bdbe-adfcdabf0741",
   "metadata": {},
   "outputs": [],
   "source": [
    "tabc_tax_name_obs = tabc_gr.groupby(by=['TABC Permit Number', 'Taxpayer Number', 'Location Name', 'date']).size()"
   ]
  },
  {
   "cell_type": "code",
   "execution_count": 68,
   "id": "a766209b-30c6-469a-9e15-3ea0c09c8994",
   "metadata": {},
   "outputs": [],
   "source": [
    "tabc_tax_name_add_obs = tabc_gr.groupby(by=['TABC Permit Number',\n",
    "                                            'Taxpayer Number',\n",
    "                                            'Location Name',\n",
    "                                            'Location Address',\n",
    "                                            'date']).size()"
   ]
  },
  {
   "cell_type": "code",
   "execution_count": 86,
   "id": "42752705-6b72-4afd-bce4-cdfaf89c96e3",
   "metadata": {},
   "outputs": [],
   "source": [
    "new_index_df = tabc_tax_name_add_obs.reset_index(drop=False)"
   ]
  },
  {
   "cell_type": "code",
   "execution_count": 87,
   "id": "80f301da-dcfc-43b3-bb37-2f8452118462",
   "metadata": {},
   "outputs": [],
   "source": [
    "new_index_df = new_index_df.drop(columns=new_index_df.columns[-2:])"
   ]
  },
  {
   "cell_type": "code",
   "execution_count": 91,
   "id": "08a72012-0893-4f95-9618-6dc00d0504e8",
   "metadata": {},
   "outputs": [],
   "source": [
    "new_index_df = new_index_df.drop_duplicates().reset_index(drop=True)"
   ]
  },
  {
   "cell_type": "code",
   "execution_count": 97,
   "id": "91249ff7-dbfd-4957-91df-a258995af6b9",
   "metadata": {},
   "outputs": [
    {
     "data": {
      "text/plain": [
       "42174"
      ]
     },
     "execution_count": 97,
     "metadata": {},
     "output_type": "execute_result"
    }
   ],
   "source": [
    "new_index_df['TABC Permit Number'].nunique()"
   ]
  },
  {
   "cell_type": "code",
   "execution_count": 98,
   "id": "a5487738-652e-40be-a87f-376344964610",
   "metadata": {},
   "outputs": [
    {
     "data": {
      "text/plain": [
       "34824"
      ]
     },
     "execution_count": 98,
     "metadata": {},
     "output_type": "execute_result"
    }
   ],
   "source": [
    "new_index_df['Taxpayer Number'].nunique()"
   ]
  },
  {
   "cell_type": "code",
   "execution_count": 99,
   "id": "a9ebab3f-7f31-4503-a9ef-ccb846e0b394",
   "metadata": {},
   "outputs": [
    {
     "data": {
      "text/plain": [
       "35464"
      ]
     },
     "execution_count": 99,
     "metadata": {},
     "output_type": "execute_result"
    }
   ],
   "source": [
    "new_index_df['Location Name'].nunique()"
   ]
  },
  {
   "cell_type": "code",
   "execution_count": 100,
   "id": "26f468bc-21d2-4498-978c-54d7b1f3cc2b",
   "metadata": {},
   "outputs": [
    {
     "data": {
      "text/plain": [
       "31843"
      ]
     },
     "execution_count": 100,
     "metadata": {},
     "output_type": "execute_result"
    }
   ],
   "source": [
    "new_index_df['Location Address'].nunique()"
   ]
  },
  {
   "cell_type": "code",
   "execution_count": 101,
   "id": "e1a27622-d575-4651-9d37-670e80cfca68",
   "metadata": {},
   "outputs": [
    {
     "data": {
      "text/plain": [
       "(46280, 4)"
      ]
     },
     "execution_count": 101,
     "metadata": {},
     "output_type": "execute_result"
    }
   ],
   "source": [
    "new_index_df.shape"
   ]
  },
  {
   "cell_type": "code",
   "execution_count": 105,
   "id": "b93e2156-2583-47ba-869a-2e22c88d521a",
   "metadata": {},
   "outputs": [],
   "source": [
    "from hashlib import sha1"
   ]
  },
  {
   "cell_type": "code",
   "execution_count": 107,
   "id": "919b4496-67ec-41e1-a59d-0b63bb40c858",
   "metadata": {},
   "outputs": [],
   "source": [
    "new_index_df['id'] = new_index_df\\\n",
    "                        .apply(lambda x: ''.join(x.astype(str)),axis=1)\\\n",
    "                        .apply(lambda value: sha1(str(value).encode('utf-8')).hexdigest())"
   ]
  },
  {
   "cell_type": "code",
   "execution_count": 111,
   "id": "e55150a4-336f-4836-828c-0e7e1abd778b",
   "metadata": {},
   "outputs": [],
   "source": [
    "new_index_df.to_csv('bar_id.csv')"
   ]
  },
  {
   "cell_type": "code",
   "execution_count": null,
   "id": "04205b15-a1a2-460c-a388-e1763862896e",
   "metadata": {},
   "outputs": [],
   "source": []
  },
  {
   "cell_type": "code",
   "execution_count": 60,
   "id": "ffd3fc72-d7bb-4c76-98a9-aefa1228670e",
   "metadata": {},
   "outputs": [
    {
     "data": {
      "text/plain": [
       "count    2.788483e+06\n",
       "mean     1.000006e+00\n",
       "std      2.540686e-03\n",
       "min      1.000000e+00\n",
       "25%      1.000000e+00\n",
       "50%      1.000000e+00\n",
       "75%      1.000000e+00\n",
       "max      2.000000e+00\n",
       "dtype: float64"
      ]
     },
     "execution_count": 60,
     "metadata": {},
     "output_type": "execute_result"
    }
   ],
   "source": [
    "tabc_tax_name_add_obs.describe()"
   ]
  },
  {
   "cell_type": "code",
   "execution_count": 61,
   "id": "dbd96305-9f4d-4795-bb40-68412d334fd0",
   "metadata": {},
   "outputs": [
    {
     "data": {
      "text/plain": [
       "(18,)"
      ]
     },
     "execution_count": 61,
     "metadata": {},
     "output_type": "execute_result"
    }
   ],
   "source": [
    "tabc_tax_name_add_obs[tabc_tax_name_add_obs > 1].shape"
   ]
  },
  {
   "cell_type": "code",
   "execution_count": 46,
   "id": "18a9e768-9598-45df-9566-a48ce266f2f2",
   "metadata": {},
   "outputs": [
    {
     "data": {
      "text/plain": [
       "TABC Permit Number  Taxpayer Number  Location Name                     date      \n",
       "D 805363            32045781765      GENIUS LIQUIDS LLC                2020-03-31    2\n",
       "D 891663            32049107785      KOOPER FAMILY WHISKEY COMPANY     2018-05-31    2\n",
       "D 927360            32057617097      STINSON DISTILLING                2021-01-31    2\n",
       "D 937876            32058443857      AUSTONIAN SPIRITS, INC.           2018-08-31    2\n",
       "D 942488            32010724683      SANGIOVANNI DISTILLERY            2019-10-31    2\n",
       "                                                                                    ..\n",
       "RM985290            32062989192      DRAKES YOKE WOOD & WINE           2017-09-30    2\n",
       "SL782206            32053652486      POKES                             2013-08-31    2\n",
       "TB000001            17602973145      CHRISTMAS PARTY                   2007-12-31    2\n",
       "TB012345            17501130672      KHIVA MULE SKINNERS - FUNDRAISER  2010-12-31    2\n",
       "TB017844            30116323541      BRAZOS VALLEY DUCKS UNLIMITED     2007-02-28    2\n",
       "Length: 519, dtype: int64"
      ]
     },
     "execution_count": 46,
     "metadata": {},
     "output_type": "execute_result"
    }
   ],
   "source": [
    "tabc_tax_name_obs[tabc_tax_name_obs == 2]"
   ]
  },
  {
   "cell_type": "code",
   "execution_count": 45,
   "id": "a0b0a0e2-c9ca-4e28-845d-0ace7ebbbb67",
   "metadata": {},
   "outputs": [
    {
     "data": {
      "text/plain": [
       "count    2.787982e+06\n",
       "mean     1.000186e+00\n",
       "std      1.364264e-02\n",
       "min      1.000000e+00\n",
       "25%      1.000000e+00\n",
       "50%      1.000000e+00\n",
       "75%      1.000000e+00\n",
       "max      2.000000e+00\n",
       "dtype: float64"
      ]
     },
     "execution_count": 45,
     "metadata": {},
     "output_type": "execute_result"
    }
   ],
   "source": [
    "tabc_tax_name_obs.describe()"
   ]
  },
  {
   "cell_type": "code",
   "execution_count": null,
   "id": "165fee1f-6d3d-4fa1-87aa-3d4af44cd4f4",
   "metadata": {},
   "outputs": [],
   "source": []
  },
  {
   "cell_type": "code",
   "execution_count": null,
   "id": "98b65796-f840-4ac4-bf82-b3783804fee4",
   "metadata": {},
   "outputs": [],
   "source": [
    "D 805363"
   ]
  },
  {
   "cell_type": "code",
   "execution_count": null,
   "id": "e4d3cbfb-a71d-482e-97b9-7d40b404c2e7",
   "metadata": {},
   "outputs": [],
   "source": []
  },
  {
   "cell_type": "code",
   "execution_count": 34,
   "id": "b4715949-e9a1-456e-a59c-e943e9cf89bb",
   "metadata": {},
   "outputs": [
    {
     "data": {
      "text/plain": [
       "TABC Permit Number  Taxpayer Number  date      \n",
       "MB686563            12615655813      2011-02-28    3\n",
       "TB000001            17602973145      2007-12-31    3\n",
       "dtype: int64"
      ]
     },
     "execution_count": 34,
     "metadata": {},
     "output_type": "execute_result"
    }
   ],
   "source": [
    "tabc_taxpayer_obs[tabc_taxpayer_obs == 3]"
   ]
  },
  {
   "cell_type": "code",
   "execution_count": 33,
   "id": "d04ba9fe-0817-485e-b599-87ea721d13e6",
   "metadata": {},
   "outputs": [
    {
     "data": {
      "text/plain": [
       "count    2.786712e+06\n",
       "mean     1.000642e+00\n",
       "std      2.535742e-02\n",
       "min      1.000000e+00\n",
       "25%      1.000000e+00\n",
       "50%      1.000000e+00\n",
       "75%      1.000000e+00\n",
       "max      3.000000e+00\n",
       "dtype: float64"
      ]
     },
     "execution_count": 33,
     "metadata": {},
     "output_type": "execute_result"
    }
   ],
   "source": [
    "tabc_taxpayer_obs.describe()"
   ]
  },
  {
   "cell_type": "code",
   "execution_count": 28,
   "id": "d807f652-f0af-4d0a-b35e-61eef2abec52",
   "metadata": {},
   "outputs": [
    {
     "data": {
      "text/plain": [
       "TABC Permit Number  date      \n",
       "TB000001            2007-12-31    5\n",
       "dtype: int64"
      ]
     },
     "execution_count": 28,
     "metadata": {},
     "output_type": "execute_result"
    }
   ],
   "source": [
    "tabc_obs[tabc_obs == 5]"
   ]
  },
  {
   "cell_type": "code",
   "execution_count": 23,
   "id": "9cb047d4-056c-4437-8fc7-0814259f3209",
   "metadata": {
    "tags": []
   },
   "outputs": [
    {
     "data": {
      "text/plain": [
       "count    2.785339e+06\n",
       "mean     1.001135e+00\n",
       "std      3.381237e-02\n",
       "min      1.000000e+00\n",
       "25%      1.000000e+00\n",
       "50%      1.000000e+00\n",
       "75%      1.000000e+00\n",
       "max      5.000000e+00\n",
       "dtype: float64"
      ]
     },
     "execution_count": 23,
     "metadata": {},
     "output_type": "execute_result"
    }
   ],
   "source": [
    "tabc_obs.describe()"
   ]
  },
  {
   "cell_type": "raw",
   "id": "0b75df35-1548-4c7b-8b24-b8af7c7b4433",
   "metadata": {
    "tags": []
   },
   "source": [
    "yeet_list = [x[0] for x in tabc_obs[tabc_obs > 1].index]"
   ]
  },
  {
   "cell_type": "raw",
   "id": "ecb40866-227d-4161-85e2-7d5607a1997c",
   "metadata": {},
   "source": [
    "len(yeet_list)"
   ]
  },
  {
   "cell_type": "raw",
   "id": "29e2c769-b19c-4044-82f1-98bb827962a2",
   "metadata": {},
   "source": [
    "tabc_gr[(tabc_gr['TABC Permit Number'] == 'TB892368') & \\\n",
    "        (tabc_gr['date'] == datetime(2009, 10, 31))]"
   ]
  },
  {
   "cell_type": "code",
   "execution_count": 49,
   "id": "a927af3f-09ca-4b3a-a178-660ca164e722",
   "metadata": {},
   "outputs": [
    {
     "name": "stdout",
     "output_type": "stream",
     "text": [
      "/Users/michaelhinds/Documents/APDS/session_18Aug2022/texas_beer\n"
     ]
    }
   ],
   "source": [
    "!pwd"
   ]
  },
  {
   "cell_type": "code",
   "execution_count": 54,
   "id": "f75664ab-9428-4c75-bf42-73efafeee601",
   "metadata": {},
   "outputs": [],
   "source": [
    "tabc_gr[(tabc_gr['TABC Permit Number'] == 'MB192118')].sort_values(by='date').to_csv('dups2.csv')"
   ]
  },
  {
   "cell_type": "code",
   "execution_count": 29,
   "id": "d82c1ab2-606e-4254-936a-be1f7b3ec77b",
   "metadata": {},
   "outputs": [
    {
     "data": {
      "text/html": [
       "<div>\n",
       "<style scoped>\n",
       "    .dataframe tbody tr th:only-of-type {\n",
       "        vertical-align: middle;\n",
       "    }\n",
       "\n",
       "    .dataframe tbody tr th {\n",
       "        vertical-align: top;\n",
       "    }\n",
       "\n",
       "    .dataframe thead th {\n",
       "        text-align: right;\n",
       "    }\n",
       "</style>\n",
       "<table border=\"1\" class=\"dataframe\">\n",
       "  <thead>\n",
       "    <tr style=\"text-align: right;\">\n",
       "      <th></th>\n",
       "      <th>Taxpayer Number</th>\n",
       "      <th>Taxpayer Name</th>\n",
       "      <th>Taxpayer Address</th>\n",
       "      <th>Taxpayer City</th>\n",
       "      <th>Taxpayer State</th>\n",
       "      <th>Taxpayer Zip</th>\n",
       "      <th>Taxpayer County</th>\n",
       "      <th>Location Number</th>\n",
       "      <th>Location Name</th>\n",
       "      <th>Location Address</th>\n",
       "      <th>...</th>\n",
       "      <th>TABC Permit Number</th>\n",
       "      <th>Responsibility Begin Date</th>\n",
       "      <th>Responsibility End Date</th>\n",
       "      <th>Obligation End Date</th>\n",
       "      <th>Liquor Receipts</th>\n",
       "      <th>Wine Receipts</th>\n",
       "      <th>Beer Receipts</th>\n",
       "      <th>Cover Charge Receipts</th>\n",
       "      <th>Total Receipts</th>\n",
       "      <th>date</th>\n",
       "    </tr>\n",
       "  </thead>\n",
       "  <tbody>\n",
       "    <tr>\n",
       "      <th>1051143</th>\n",
       "      <td>32015503777</td>\n",
       "      <td>TOMBALL CENTENNIAL COMMITEE</td>\n",
       "      <td>PO BOX 2007</td>\n",
       "      <td>TOMBALL</td>\n",
       "      <td>TX</td>\n",
       "      <td>77377.0</td>\n",
       "      <td>101</td>\n",
       "      <td>2</td>\n",
       "      <td>FUNDRAISER</td>\n",
       "      <td>824 ULRICH RD</td>\n",
       "      <td>...</td>\n",
       "      <td>TB000001</td>\n",
       "      <td>12/01/2007</td>\n",
       "      <td>12/01/2007</td>\n",
       "      <td>06/30/2007</td>\n",
       "      <td>2555</td>\n",
       "      <td>0</td>\n",
       "      <td>33912</td>\n",
       "      <td>0</td>\n",
       "      <td>36467</td>\n",
       "      <td>2007-06-30</td>\n",
       "    </tr>\n",
       "    <tr>\n",
       "      <th>1190500</th>\n",
       "      <td>17602973145</td>\n",
       "      <td>SUNSET G VENTURES, INC.</td>\n",
       "      <td>1702 WILSON RD</td>\n",
       "      <td>HUMBLE</td>\n",
       "      <td>TX</td>\n",
       "      <td>77396.0</td>\n",
       "      <td>101</td>\n",
       "      <td>7</td>\n",
       "      <td>FESTIVAL OF GIVING</td>\n",
       "      <td>1201 LAKE WOODLANDS DR</td>\n",
       "      <td>...</td>\n",
       "      <td>TB000001</td>\n",
       "      <td>12/01/2007</td>\n",
       "      <td>12/31/2007</td>\n",
       "      <td>12/31/2007</td>\n",
       "      <td>0</td>\n",
       "      <td>528</td>\n",
       "      <td>15</td>\n",
       "      <td>0</td>\n",
       "      <td>543</td>\n",
       "      <td>2007-12-31</td>\n",
       "    </tr>\n",
       "    <tr>\n",
       "      <th>1199962</th>\n",
       "      <td>17603353867</td>\n",
       "      <td>KREWE OF OLYMPUS - TEXAS, INC.</td>\n",
       "      <td>PO BOX 920794</td>\n",
       "      <td>HOUSTON</td>\n",
       "      <td>TX</td>\n",
       "      <td>77292.0</td>\n",
       "      <td>101</td>\n",
       "      <td>15</td>\n",
       "      <td>FUNDRAISER</td>\n",
       "      <td>412 LOVETT BLVD</td>\n",
       "      <td>...</td>\n",
       "      <td>TB000001</td>\n",
       "      <td>10/01/2007</td>\n",
       "      <td>10/01/2007</td>\n",
       "      <td>10/31/2007</td>\n",
       "      <td>1044</td>\n",
       "      <td>114</td>\n",
       "      <td>417</td>\n",
       "      <td>0</td>\n",
       "      <td>1575</td>\n",
       "      <td>2007-10-31</td>\n",
       "    </tr>\n",
       "    <tr>\n",
       "      <th>1259382</th>\n",
       "      <td>17602973145</td>\n",
       "      <td>SUNSET G VENTURES, INC.</td>\n",
       "      <td>1702 WILSON RD</td>\n",
       "      <td>HUMBLE</td>\n",
       "      <td>TX</td>\n",
       "      <td>77396.0</td>\n",
       "      <td>101</td>\n",
       "      <td>8</td>\n",
       "      <td>CHRISTMAS PARTY</td>\n",
       "      <td>3100 WESLAYAN ST STE 400</td>\n",
       "      <td>...</td>\n",
       "      <td>TB000001</td>\n",
       "      <td>12/01/2007</td>\n",
       "      <td>12/01/2007</td>\n",
       "      <td>12/31/2007</td>\n",
       "      <td>353</td>\n",
       "      <td>15</td>\n",
       "      <td>47</td>\n",
       "      <td>0</td>\n",
       "      <td>415</td>\n",
       "      <td>2007-12-31</td>\n",
       "    </tr>\n",
       "    <tr>\n",
       "      <th>1380111</th>\n",
       "      <td>17602973145</td>\n",
       "      <td>SUNSET G VENTURES, INC.</td>\n",
       "      <td>1702 WILSON RD</td>\n",
       "      <td>HUMBLE</td>\n",
       "      <td>TX</td>\n",
       "      <td>77396.0</td>\n",
       "      <td>101</td>\n",
       "      <td>10</td>\n",
       "      <td>CHAMBER OF COMMERCE</td>\n",
       "      <td>21575 HIGHWAY 59 N</td>\n",
       "      <td>...</td>\n",
       "      <td>TB000001</td>\n",
       "      <td>01/01/2008</td>\n",
       "      <td>01/01/2008</td>\n",
       "      <td>01/31/2008</td>\n",
       "      <td>460</td>\n",
       "      <td>48</td>\n",
       "      <td>36</td>\n",
       "      <td>0</td>\n",
       "      <td>544</td>\n",
       "      <td>2008-01-31</td>\n",
       "    </tr>\n",
       "    <tr>\n",
       "      <th>1428014</th>\n",
       "      <td>32015503777</td>\n",
       "      <td>TOMBALL CENTENNIAL COMMITEE</td>\n",
       "      <td>PO BOX 2007</td>\n",
       "      <td>TOMBALL</td>\n",
       "      <td>TX</td>\n",
       "      <td>77377.0</td>\n",
       "      <td>101</td>\n",
       "      <td>2</td>\n",
       "      <td>FUNDRAISER</td>\n",
       "      <td>824 ULRICH RD</td>\n",
       "      <td>...</td>\n",
       "      <td>TB000001</td>\n",
       "      <td>12/01/2007</td>\n",
       "      <td>12/01/2007</td>\n",
       "      <td>12/31/2007</td>\n",
       "      <td>0</td>\n",
       "      <td>0</td>\n",
       "      <td>3204</td>\n",
       "      <td>0</td>\n",
       "      <td>3204</td>\n",
       "      <td>2007-12-31</td>\n",
       "    </tr>\n",
       "    <tr>\n",
       "      <th>1451535</th>\n",
       "      <td>17602973145</td>\n",
       "      <td>SUNSET G VENTURES, INC.</td>\n",
       "      <td>1702 WILSON RD</td>\n",
       "      <td>HUMBLE</td>\n",
       "      <td>TX</td>\n",
       "      <td>77396.0</td>\n",
       "      <td>101</td>\n",
       "      <td>6</td>\n",
       "      <td>CHRISTMAS PARTY</td>\n",
       "      <td>8233 WILL CLAYTON PKWY</td>\n",
       "      <td>...</td>\n",
       "      <td>TB000001</td>\n",
       "      <td>12/01/2007</td>\n",
       "      <td>12/01/2007</td>\n",
       "      <td>12/31/2007</td>\n",
       "      <td>356</td>\n",
       "      <td>84</td>\n",
       "      <td>274</td>\n",
       "      <td>0</td>\n",
       "      <td>714</td>\n",
       "      <td>2007-12-31</td>\n",
       "    </tr>\n",
       "    <tr>\n",
       "      <th>1746359</th>\n",
       "      <td>17600712982</td>\n",
       "      <td>BLUEBONNET SOCIETY OF BELLVILLE</td>\n",
       "      <td>PO BOX 92</td>\n",
       "      <td>BELLVILLE</td>\n",
       "      <td>TX</td>\n",
       "      <td>77418.0</td>\n",
       "      <td>8</td>\n",
       "      <td>1</td>\n",
       "      <td>ANNUAL FUNDRAISER DINNER AND DANCE</td>\n",
       "      <td>FAIRGROUNDS AUSTIN CO EXHIBIT BLDG</td>\n",
       "      <td>...</td>\n",
       "      <td>TB000001</td>\n",
       "      <td>04/01/2007</td>\n",
       "      <td>04/01/2007</td>\n",
       "      <td>04/30/2007</td>\n",
       "      <td>2875</td>\n",
       "      <td>0</td>\n",
       "      <td>0</td>\n",
       "      <td>0</td>\n",
       "      <td>2875</td>\n",
       "      <td>2007-04-30</td>\n",
       "    </tr>\n",
       "    <tr>\n",
       "      <th>2660021</th>\n",
       "      <td>17501130672</td>\n",
       "      <td>KHIVA SHRINE TEMPLE</td>\n",
       "      <td>PO BOX 328</td>\n",
       "      <td>AMARILLO</td>\n",
       "      <td>TX</td>\n",
       "      <td>79105.0</td>\n",
       "      <td>188</td>\n",
       "      <td>16</td>\n",
       "      <td>MULE SKINNER'S FUNDRAISER</td>\n",
       "      <td>305 SE 5TH AVE</td>\n",
       "      <td>...</td>\n",
       "      <td>TB000001</td>\n",
       "      <td>12/01/2007</td>\n",
       "      <td>12/01/2007</td>\n",
       "      <td>09/30/2007</td>\n",
       "      <td>770</td>\n",
       "      <td>0</td>\n",
       "      <td>480</td>\n",
       "      <td>0</td>\n",
       "      <td>1250</td>\n",
       "      <td>2007-09-30</td>\n",
       "    </tr>\n",
       "    <tr>\n",
       "      <th>2663162</th>\n",
       "      <td>17501130672</td>\n",
       "      <td>KHIVA SHRINE TEMPLE</td>\n",
       "      <td>PO BOX 328</td>\n",
       "      <td>AMARILLO</td>\n",
       "      <td>TX</td>\n",
       "      <td>79105.0</td>\n",
       "      <td>188</td>\n",
       "      <td>16</td>\n",
       "      <td>MULE SKINNER'S FUNDRAISER</td>\n",
       "      <td>305 SE 5TH AVE</td>\n",
       "      <td>...</td>\n",
       "      <td>TB000001</td>\n",
       "      <td>12/01/2007</td>\n",
       "      <td>12/01/2007</td>\n",
       "      <td>12/31/2007</td>\n",
       "      <td>520</td>\n",
       "      <td>42</td>\n",
       "      <td>0</td>\n",
       "      <td>0</td>\n",
       "      <td>562</td>\n",
       "      <td>2007-12-31</td>\n",
       "    </tr>\n",
       "  </tbody>\n",
       "</table>\n",
       "<p>10 rows × 25 columns</p>\n",
       "</div>"
      ],
      "text/plain": [
       "         Taxpayer Number                    Taxpayer Name Taxpayer Address  \\\n",
       "1051143      32015503777      TOMBALL CENTENNIAL COMMITEE      PO BOX 2007   \n",
       "1190500      17602973145          SUNSET G VENTURES, INC.   1702 WILSON RD   \n",
       "1199962      17603353867   KREWE OF OLYMPUS - TEXAS, INC.    PO BOX 920794   \n",
       "1259382      17602973145          SUNSET G VENTURES, INC.   1702 WILSON RD   \n",
       "1380111      17602973145          SUNSET G VENTURES, INC.   1702 WILSON RD   \n",
       "1428014      32015503777      TOMBALL CENTENNIAL COMMITEE      PO BOX 2007   \n",
       "1451535      17602973145          SUNSET G VENTURES, INC.   1702 WILSON RD   \n",
       "1746359      17600712982  BLUEBONNET SOCIETY OF BELLVILLE        PO BOX 92   \n",
       "2660021      17501130672              KHIVA SHRINE TEMPLE       PO BOX 328   \n",
       "2663162      17501130672              KHIVA SHRINE TEMPLE       PO BOX 328   \n",
       "\n",
       "        Taxpayer City Taxpayer State  Taxpayer Zip  Taxpayer County  \\\n",
       "1051143       TOMBALL             TX       77377.0              101   \n",
       "1190500        HUMBLE             TX       77396.0              101   \n",
       "1199962       HOUSTON             TX       77292.0              101   \n",
       "1259382        HUMBLE             TX       77396.0              101   \n",
       "1380111        HUMBLE             TX       77396.0              101   \n",
       "1428014       TOMBALL             TX       77377.0              101   \n",
       "1451535        HUMBLE             TX       77396.0              101   \n",
       "1746359     BELLVILLE             TX       77418.0                8   \n",
       "2660021      AMARILLO             TX       79105.0              188   \n",
       "2663162      AMARILLO             TX       79105.0              188   \n",
       "\n",
       "         Location Number                       Location Name  \\\n",
       "1051143                2                          FUNDRAISER   \n",
       "1190500                7                  FESTIVAL OF GIVING   \n",
       "1199962               15                          FUNDRAISER   \n",
       "1259382                8                     CHRISTMAS PARTY   \n",
       "1380111               10                 CHAMBER OF COMMERCE   \n",
       "1428014                2                          FUNDRAISER   \n",
       "1451535                6                     CHRISTMAS PARTY   \n",
       "1746359                1  ANNUAL FUNDRAISER DINNER AND DANCE   \n",
       "2660021               16           MULE SKINNER'S FUNDRAISER   \n",
       "2663162               16           MULE SKINNER'S FUNDRAISER   \n",
       "\n",
       "                           Location Address  ... TABC Permit Number  \\\n",
       "1051143                       824 ULRICH RD  ...           TB000001   \n",
       "1190500              1201 LAKE WOODLANDS DR  ...           TB000001   \n",
       "1199962                     412 LOVETT BLVD  ...           TB000001   \n",
       "1259382            3100 WESLAYAN ST STE 400  ...           TB000001   \n",
       "1380111                  21575 HIGHWAY 59 N  ...           TB000001   \n",
       "1428014                       824 ULRICH RD  ...           TB000001   \n",
       "1451535              8233 WILL CLAYTON PKWY  ...           TB000001   \n",
       "1746359  FAIRGROUNDS AUSTIN CO EXHIBIT BLDG  ...           TB000001   \n",
       "2660021                      305 SE 5TH AVE  ...           TB000001   \n",
       "2663162                      305 SE 5TH AVE  ...           TB000001   \n",
       "\n",
       "        Responsibility Begin Date  Responsibility End Date  \\\n",
       "1051143                12/01/2007               12/01/2007   \n",
       "1190500                12/01/2007               12/31/2007   \n",
       "1199962                10/01/2007               10/01/2007   \n",
       "1259382                12/01/2007               12/01/2007   \n",
       "1380111                01/01/2008               01/01/2008   \n",
       "1428014                12/01/2007               12/01/2007   \n",
       "1451535                12/01/2007               12/01/2007   \n",
       "1746359                04/01/2007               04/01/2007   \n",
       "2660021                12/01/2007               12/01/2007   \n",
       "2663162                12/01/2007               12/01/2007   \n",
       "\n",
       "         Obligation End Date Liquor Receipts Wine Receipts Beer Receipts  \\\n",
       "1051143           06/30/2007            2555             0         33912   \n",
       "1190500           12/31/2007               0           528            15   \n",
       "1199962           10/31/2007            1044           114           417   \n",
       "1259382           12/31/2007             353            15            47   \n",
       "1380111           01/31/2008             460            48            36   \n",
       "1428014           12/31/2007               0             0          3204   \n",
       "1451535           12/31/2007             356            84           274   \n",
       "1746359           04/30/2007            2875             0             0   \n",
       "2660021           09/30/2007             770             0           480   \n",
       "2663162           12/31/2007             520            42             0   \n",
       "\n",
       "        Cover Charge Receipts Total Receipts       date  \n",
       "1051143                     0          36467 2007-06-30  \n",
       "1190500                     0            543 2007-12-31  \n",
       "1199962                     0           1575 2007-10-31  \n",
       "1259382                     0            415 2007-12-31  \n",
       "1380111                     0            544 2008-01-31  \n",
       "1428014                     0           3204 2007-12-31  \n",
       "1451535                     0            714 2007-12-31  \n",
       "1746359                     0           2875 2007-04-30  \n",
       "2660021                     0           1250 2007-09-30  \n",
       "2663162                     0            562 2007-12-31  \n",
       "\n",
       "[10 rows x 25 columns]"
      ]
     },
     "execution_count": 29,
     "metadata": {},
     "output_type": "execute_result"
    }
   ],
   "source": [
    "tabc_gr[(tabc_gr['TABC Permit Number'] == 'TB000001')]"
   ]
  },
  {
   "cell_type": "code",
   "execution_count": 16,
   "id": "71c39900-66c0-4ab7-aaec-59167707016d",
   "metadata": {},
   "outputs": [
    {
     "name": "stderr",
     "output_type": "stream",
     "text": [
      "/var/folders/4c/2qnjjn4s5ll345918sr_tf8r0000gn/T/ipykernel_78543/2791111716.py:1: DtypeWarning: Columns (9) have mixed types. Specify dtype option on import or set low_memory=False.\n",
      "  tabc_lics = pd.read_csv('/Users/michaelhinds/Downloads/TABCLicenses.csv')\n"
     ]
    }
   ],
   "source": [
    "tabc_lics = pd.read_csv('/Users/michaelhinds/Downloads/TABCLicenses.csv')"
   ]
  },
  {
   "cell_type": "code",
   "execution_count": 17,
   "id": "185d9bea-e380-4704-87c4-e8ff1c76a3c1",
   "metadata": {},
   "outputs": [
    {
     "data": {
      "text/plain": [
       "AIMSOwnerName           object\n",
       "AIMSTradeName           object\n",
       "AIMSLicenseType         object\n",
       "AIMSLicenseID            int64\n",
       "LegacyLicenseClass      object\n",
       "LegacyLicenseNumber    float64\n",
       "LocationAddress         object\n",
       "City                    object\n",
       "State                   object\n",
       "ZIP                     object\n",
       "TXCounty                object\n",
       "dtype: object"
      ]
     },
     "execution_count": 17,
     "metadata": {},
     "output_type": "execute_result"
    }
   ],
   "source": [
    "tabc_lics.dtypes"
   ]
  },
  {
   "cell_type": "code",
   "execution_count": 18,
   "id": "f454af14-47ca-4c2b-81df-0bbed0cc1120",
   "metadata": {},
   "outputs": [
    {
     "data": {
      "text/html": [
       "<div>\n",
       "<style scoped>\n",
       "    .dataframe tbody tr th:only-of-type {\n",
       "        vertical-align: middle;\n",
       "    }\n",
       "\n",
       "    .dataframe tbody tr th {\n",
       "        vertical-align: top;\n",
       "    }\n",
       "\n",
       "    .dataframe thead th {\n",
       "        text-align: right;\n",
       "    }\n",
       "</style>\n",
       "<table border=\"1\" class=\"dataframe\">\n",
       "  <thead>\n",
       "    <tr style=\"text-align: right;\">\n",
       "      <th></th>\n",
       "      <th>AIMSOwnerName</th>\n",
       "      <th>AIMSTradeName</th>\n",
       "      <th>AIMSLicenseType</th>\n",
       "      <th>AIMSLicenseID</th>\n",
       "      <th>LegacyLicenseClass</th>\n",
       "      <th>LegacyLicenseNumber</th>\n",
       "      <th>LocationAddress</th>\n",
       "      <th>City</th>\n",
       "      <th>State</th>\n",
       "      <th>ZIP</th>\n",
       "      <th>TXCounty</th>\n",
       "    </tr>\n",
       "  </thead>\n",
       "  <tbody>\n",
       "    <tr>\n",
       "      <th>0</th>\n",
       "      <td>\"BUBBA'S \"\"THE\"\" BOILING SPOT INC.\"</td>\n",
       "      <td>BUBBA'S</td>\n",
       "      <td>BG</td>\n",
       "      <td>102548510</td>\n",
       "      <td>BG</td>\n",
       "      <td>756557.0</td>\n",
       "      <td>1142 HIGHWAY 185 E</td>\n",
       "      <td>SEADRIFT</td>\n",
       "      <td>TX</td>\n",
       "      <td>77983</td>\n",
       "      <td>Calhoun</td>\n",
       "    </tr>\n",
       "    <tr>\n",
       "      <th>1</th>\n",
       "      <td>\"CIRCLE \"\"ON\"\" INC\"</td>\n",
       "      <td>\"CIRCLE \"\"ON\"\"\"</td>\n",
       "      <td>BQ</td>\n",
       "      <td>103435005</td>\n",
       "      <td>BQ</td>\n",
       "      <td>831979.0</td>\n",
       "      <td>207 S CLARK ROAD</td>\n",
       "      <td>CEDAR HILL</td>\n",
       "      <td>TX</td>\n",
       "      <td>751042773</td>\n",
       "      <td>Dallas</td>\n",
       "    </tr>\n",
       "    <tr>\n",
       "      <th>2</th>\n",
       "      <td>\"DAVID \"\"EL KID\"\" MEAT MARKET INC.\"</td>\n",
       "      <td>DAVID'S MEAT MARKET</td>\n",
       "      <td>BQ</td>\n",
       "      <td>101677104</td>\n",
       "      <td>BQ</td>\n",
       "      <td>688572.0</td>\n",
       "      <td>3310 E BARRERA ST</td>\n",
       "      <td>MERCEDES</td>\n",
       "      <td>TX</td>\n",
       "      <td>785705738</td>\n",
       "      <td>Hidalgo</td>\n",
       "    </tr>\n",
       "    <tr>\n",
       "      <th>3</th>\n",
       "      <td>\"DAVID \"\"EL KID\"\" MEAT MARKET INC.\"</td>\n",
       "      <td>EL KID'S DRIVE THRU &amp; MEATS TO GO</td>\n",
       "      <td>BQ</td>\n",
       "      <td>103868418</td>\n",
       "      <td>BQ</td>\n",
       "      <td>867249.0</td>\n",
       "      <td>808 E MILE 10 N</td>\n",
       "      <td>WESLACO</td>\n",
       "      <td>TX</td>\n",
       "      <td>785992321</td>\n",
       "      <td>Hidalgo</td>\n",
       "    </tr>\n",
       "    <tr>\n",
       "      <th>4</th>\n",
       "      <td>\"JR. AND POLEY\"\"S SPOT LLC\"</td>\n",
       "      <td>JR AND POLEY''S SPOT LLC</td>\n",
       "      <td>BG</td>\n",
       "      <td>106287318</td>\n",
       "      <td>BG</td>\n",
       "      <td>1062386.0</td>\n",
       "      <td>207 N OAK ST</td>\n",
       "      <td>PECOS</td>\n",
       "      <td>TX</td>\n",
       "      <td>797722336</td>\n",
       "      <td>Reeves</td>\n",
       "    </tr>\n",
       "  </tbody>\n",
       "</table>\n",
       "</div>"
      ],
      "text/plain": [
       "                         AIMSOwnerName                      AIMSTradeName  \\\n",
       "0  \"BUBBA'S \"\"THE\"\" BOILING SPOT INC.\"                            BUBBA'S   \n",
       "1                  \"CIRCLE \"\"ON\"\" INC\"                    \"CIRCLE \"\"ON\"\"\"   \n",
       "2  \"DAVID \"\"EL KID\"\" MEAT MARKET INC.\"                DAVID'S MEAT MARKET   \n",
       "3  \"DAVID \"\"EL KID\"\" MEAT MARKET INC.\"  EL KID'S DRIVE THRU & MEATS TO GO   \n",
       "4          \"JR. AND POLEY\"\"S SPOT LLC\"           JR AND POLEY''S SPOT LLC   \n",
       "\n",
       "  AIMSLicenseType  AIMSLicenseID LegacyLicenseClass  LegacyLicenseNumber  \\\n",
       "0              BG      102548510                 BG             756557.0   \n",
       "1              BQ      103435005                 BQ             831979.0   \n",
       "2              BQ      101677104                 BQ             688572.0   \n",
       "3              BQ      103868418                 BQ             867249.0   \n",
       "4              BG      106287318                 BG            1062386.0   \n",
       "\n",
       "        LocationAddress        City State        ZIP TXCounty  \n",
       "0  1142 HIGHWAY 185 E      SEADRIFT    TX      77983  Calhoun  \n",
       "1    207 S CLARK ROAD    CEDAR HILL    TX  751042773   Dallas  \n",
       "2   3310 E BARRERA ST      MERCEDES    TX  785705738  Hidalgo  \n",
       "3     808 E MILE 10 N       WESLACO    TX  785992321  Hidalgo  \n",
       "4        207 N OAK ST         PECOS    TX  797722336   Reeves  "
      ]
     },
     "execution_count": 18,
     "metadata": {},
     "output_type": "execute_result"
    }
   ],
   "source": [
    "tabc_lics.head()"
   ]
  },
  {
   "cell_type": "code",
   "execution_count": 22,
   "id": "6a8719ee-4899-48cc-8572-601a5aff83f7",
   "metadata": {},
   "outputs": [
    {
     "data": {
      "text/plain": [
       "0                    1142 HIGHWAY 185 E  \n",
       "1                      207 S CLARK ROAD  \n",
       "2                     3310 E BARRERA ST  \n",
       "3                       808 E MILE 10 N  \n",
       "4                          207 N OAK ST  \n",
       "                       ...               \n",
       "66036    18900 N HEATHERWILDE BOULEVARD  \n",
       "66037    2625 OLD DENTON ROAD SUITE 586  \n",
       "66038                3026 FM 2094 STE A  \n",
       "66039                   2628 N STORY RD  \n",
       "66040              8305 ALMEDA GENOA RD  \n",
       "Name: LocationAddress, Length: 66041, dtype: object"
      ]
     },
     "execution_count": 22,
     "metadata": {},
     "output_type": "execute_result"
    }
   ],
   "source": [
    "tabc_lics.LocationAddress"
   ]
  },
  {
   "cell_type": "code",
   "execution_count": 21,
   "id": "2a3484d5-6819-4694-bdee-6e1af4f6fd85",
   "metadata": {},
   "outputs": [
    {
     "data": {
      "text/plain": [
       "9"
      ]
     },
     "execution_count": 21,
     "metadata": {},
     "output_type": "execute_result"
    }
   ],
   "source": [
    "len('102548510')"
   ]
  },
  {
   "cell_type": "code",
   "execution_count": null,
   "id": "bdcf2fad-9783-4649-b391-e4a801ec2e21",
   "metadata": {},
   "outputs": [],
   "source": []
  }
 ],
 "metadata": {
  "kernelspec": {
   "display_name": "Python 3 (ipykernel)",
   "language": "python",
   "name": "python3"
  },
  "language_info": {
   "codemirror_mode": {
    "name": "ipython",
    "version": 3
   },
   "file_extension": ".py",
   "mimetype": "text/x-python",
   "name": "python",
   "nbconvert_exporter": "python",
   "pygments_lexer": "ipython3",
   "version": "3.10.4"
  }
 },
 "nbformat": 4,
 "nbformat_minor": 5
}
