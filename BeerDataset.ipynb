{
  "nbformat": 4,
  "nbformat_minor": 0,
  "metadata": {
    "colab": {
      "provenance": [],
      "collapsed_sections": []
    },
    "kernelspec": {
      "name": "python3",
      "display_name": "Python 3"
    },
    "language_info": {
      "name": "python"
    }
  },
  "cells": [
    {
      "cell_type": "code",
      "source": [
        "import pandas as pd\n",
        "\n",
        "data_path = r'/content/drive/MyDrive/Mixed_Beverage_Gross_Receipts.csv'\n",
        "df = pd.read_csv(data_path)\n",
        "\n",
        "# print(df)\n",
        "# for i in df.columns:\n",
        "#   print(i)"
      ],
      "metadata": {
        "id": "aKWIiZmXmhfs"
      },
      "execution_count": null,
      "outputs": []
    },
    {
      "cell_type": "markdown",
      "source": [
        "With this data, we can analyze the ratios between beer reciepts and total reviepts to give us some ratio. On its own, this ratio would mean very little.\n",
        "\n",
        "But we can analyze the ratios of the craft breweries (locations literally containing the word 'beer') to find an archetype of craft breweries, and use that to classify other locations via the ratio."
      ],
      "metadata": {
        "id": "MX1zC5V3vxp9"
      }
    },
    {
      "cell_type": "code",
      "source": [
        "df['ratio'] = df['Beer Receipts'].astype(float) / df['Total Receipts'].astype(float)\n",
        "# print(df[['Taxpayer Name', 'Beer Receipts', 'Total Receipts', 'ratio']].head())\n",
        "\n",
        "craft_df = df.loc[df['Taxpayer Name'].str.contains(\"BEER\", case=False)]\n",
        "print(craft_df['Taxpayer Name'], '\\n')\n",
        "\n",
        "\n",
        "print(f\"Craft beer mean: {craft_df['ratio'].mean()}\")\n",
        "print(f\"Craft beer variance: {craft_df['ratio'].var()}\")\n",
        "print()\n",
        "\n",
        "print(f\"full df mean: {df['ratio'].mean()}\")\n",
        "print(f\"full df variance: {df['ratio'].var()}\")\n",
        "print()"
      ],
      "metadata": {
        "colab": {
          "base_uri": "https://localhost:8080/"
        },
        "id": "bPsgaWydtYs_",
        "outputId": "f3df05bc-9767-4bf2-9a40-e639ca70aa6d"
      },
      "execution_count": 11,
      "outputs": [
        {
          "output_type": "stream",
          "name": "stdout",
          "text": [
            "6573                     AXELRAD BEER GARDEN, LTD.\n",
            "7728                  THE ROUNDUP BEER GARDEN, LLC\n",
            "14044                 THE ROUNDUP BEER GARDEN, LLC\n",
            "20554                     FLORENCE BEER MARKET LLC\n",
            "23273                    AXELRAD BEER GARDEN, LTD.\n",
            "                            ...                   \n",
            "2766080    SPRING STREET BEER AND WINE GARDEN, LLC\n",
            "2768383    SPRING STREET BEER AND WINE GARDEN, LLC\n",
            "2772514                   JOHNNY'S BEER GARDEN LLC\n",
            "2775785                  AXELRAD BEER GARDEN, LTD.\n",
            "2778262               THE SUN BEER&WINE LOUNGE LLC\n",
            "Name: Taxpayer Name, Length: 1937, dtype: object \n",
            "\n",
            "Craft beer mean: 0.510071813664396\n",
            "Craft beer variance: 0.027108046634762562\n",
            "\n",
            "full df mean: 0.38813268632444303\n",
            "full df variance: 0.0535241573160253\n",
            "\n"
          ]
        }
      ]
    },
    {
      "cell_type": "markdown",
      "source": [],
      "metadata": {
        "id": "rHAug4ceweFu"
      }
    }
  ]
}